{
 "cells": [
  {
   "cell_type": "code",
   "execution_count": 26,
   "metadata": {},
   "outputs": [
    {
     "ename": "SyntaxError",
     "evalue": "invalid syntax (<ipython-input-26-f0df443683d9>, line 23)",
     "output_type": "error",
     "traceback": [
      "\u001b[0;36m  File \u001b[0;32m\"<ipython-input-26-f0df443683d9>\"\u001b[0;36m, line \u001b[0;32m23\u001b[0m\n\u001b[0;31m    30,\u001b[0m\n\u001b[0m    ^\u001b[0m\n\u001b[0;31mSyntaxError\u001b[0m\u001b[0;31m:\u001b[0m invalid syntax\n"
     ]
    }
   ],
   "source": [
    "import requests\n",
    "import json\n",
    "\n",
    "# URL for the web service\n",
    "scoring_uri = 'http://20.85.176.173/api/v1/service/view-for-all/score'\n",
    "# If the service is authenticated, set the key or token\n",
    "key = '6LUdJ9QPfCMaxTjAzeD2N3kCxhaprPos'\n",
    "\n",
    "# Opening JSON file\n",
    "f = open('Input.json')\n",
    "\n",
    "# returns JSON object as\n",
    "# a dictionary\n",
    "input_data = json.load(f)\n",
    "\n",
    "# Closing file\n",
    "f.close()\n",
    "\n",
    "data = {\"data\":\n",
    "        [\n",
    "            [\n",
    "                1\n",
    "                30,\n",
    "                \"Woman\",\n",
    "                \"Male\",\n",
    "                \"Black or African American\",\n",
    "                11,\n",
    "                \"Sony PSP\",\n",
    "                \"Kane & Lynch: Dead Men\",\n",
    "                \"Action\",\n",
    "                \"Tritan-A\",\n",
    "                \"weak\"\n",
    "            ]\n",
    "        ]\n",
    "        }\n",
    "\n",
    "data = json.dumps(data)\n",
    "            \n",
    "# Set the content type\n",
    "headers = {'Content-Type': 'application/json'}\n",
    "# If authentication is enabled, set the authorization header\n",
    "headers['Authorization'] = f'Bearer {key}'\n",
    "\n",
    "# Make the request and display the response\n",
    "resp = requests.post(scoring_uri, data, headers=headers)\n",
    "print(resp.text)"
   ]
  },
  {
   "cell_type": "code",
   "execution_count": 16,
   "metadata": {
    "scrolled": true
   },
   "outputs": [
    {
     "data": {
      "text/plain": [
       "{'Inputs': {'WebServiceInput0': [{'Id': 1,\n",
       "    'Column1': 1,\n",
       "    'Age': 30,\n",
       "    'Sex': 'Woman',\n",
       "    'Gender': 'Male',\n",
       "    'Ethnicity': 'Black or African American',\n",
       "    'HoursPlayedWeekly': 11,\n",
       "    'MostUsedPlatform': 'Sony PSP',\n",
       "    'FavouriteGame': 'Kane & Lynch: Dead Men',\n",
       "    'FavouriteGenre': 'Action',\n",
       "    'ColourAnomaly': 'Tritan-A',\n",
       "    'ColourAnomalyStrength': 'weak'},\n",
       "   {'Id': 2,\n",
       "    'Column1': 2,\n",
       "    'Age': 19,\n",
       "    'Sex': 'Woman',\n",
       "    'Gender': 'Female',\n",
       "    'Ethnicity': 'White',\n",
       "    'HoursPlayedWeekly': 9,\n",
       "    'MostUsedPlatform': 'X360',\n",
       "    'FavouriteGame': 'MLB 07: The Show',\n",
       "    'FavouriteGenre': 'Sports',\n",
       "    'ColourAnomaly': 'Deuter-A',\n",
       "    'ColourAnomalyStrength': 'strong'},\n",
       "   {'Id': 3,\n",
       "    'Column1': 3,\n",
       "    'Age': 39,\n",
       "    'Sex': 'Woman',\n",
       "    'Gender': 'Female',\n",
       "    'Ethnicity': 'Black or African American',\n",
       "    'HoursPlayedWeekly': 4,\n",
       "    'MostUsedPlatform': 'X360',\n",
       "    'FavouriteGame': 'Phoenix Wright: Ace Attorney',\n",
       "    'FavouriteGenre': 'Adventure',\n",
       "    'ColourAnomaly': 'Deuter-A',\n",
       "    'ColourAnomalyStrength': 'med'},\n",
       "   {'Id': 4,\n",
       "    'Column1': 4,\n",
       "    'Age': 32,\n",
       "    'Sex': 'Man',\n",
       "    'Gender': 'Other',\n",
       "    'Ethnicity': 'Native Hawaiian or Other Pacific Islander',\n",
       "    'HoursPlayedWeekly': 10,\n",
       "    'MostUsedPlatform': 'X360',\n",
       "    'FavouriteGame': 'Disgaea: Afternoon of Darkness',\n",
       "    'FavouriteGenre': 'Role-Playing (RPG)',\n",
       "    'ColourAnomaly': 'Norm',\n",
       "    'ColourAnomalyStrength': 'NA'},\n",
       "   {'Id': 5,\n",
       "    'Column1': 5,\n",
       "    'Age': 15,\n",
       "    'Sex': 'Woman',\n",
       "    'Gender': 'Female',\n",
       "    'Ethnicity': 'Indigenous Peoples',\n",
       "    'HoursPlayedWeekly': 5,\n",
       "    'MostUsedPlatform': 'Nintendo Wii',\n",
       "    'FavouriteGame': 'NHL 2K9',\n",
       "    'FavouriteGenre': 'Sports',\n",
       "    'ColourAnomaly': 'Deuter-A',\n",
       "    'ColourAnomalyStrength': 'strong'}]},\n",
       " 'GlobalParameters': {}}"
      ]
     },
     "execution_count": 16,
     "metadata": {},
     "output_type": "execute_result"
    }
   ],
   "source": [
    "input_data"
   ]
  },
  {
   "cell_type": "code",
   "execution_count": null,
   "metadata": {},
   "outputs": [],
   "source": []
  }
 ],
 "metadata": {
  "kernelspec": {
   "display_name": "Python 3",
   "language": "python",
   "name": "python3"
  },
  "language_info": {
   "codemirror_mode": {
    "name": "ipython",
    "version": 3
   },
   "file_extension": ".py",
   "mimetype": "text/x-python",
   "name": "python",
   "nbconvert_exporter": "python",
   "pygments_lexer": "ipython3",
   "version": "3.8.5"
  }
 },
 "nbformat": 4,
 "nbformat_minor": 4
}
