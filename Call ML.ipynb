{
 "cells": [
  {
   "cell_type": "code",
   "execution_count": 14,
   "metadata": {},
   "outputs": [
    {
     "name": "stdout",
     "output_type": "stream",
     "text": [
      "{\"error\": {\"code\": 400, \"message\": \"Input Data Error. Input data are inconsistent with schema.\\nSchema: {'WebServiceInput0': {'columnAttributes': [{'name': 'Column1', 'type': 'Numeric', 'isFeature': True, 'elementType': {'typeName': 'int64', 'isNullable': False}}, {'name': 'Age', 'type': 'Numeric', 'isFeature': True, 'elementType': {'typeName': 'int64', 'isN\\nData: b'Inputs=WebServiceInput0'\\nTraceback (most recent call last):\\n  File \\\"/azureml-envs/azureml_29b35f9ea6f90b2cb3c716f826394b44/lib/python3.6/site-packages/azureml/designer/serving/dagengine/processor.py\\\", line 18, in run\\n    webservice_input, global_parameters = self.pre_process(raw_data)\\n  File \\\"/azureml-envs/azureml_29b35f9ea6f90b2cb3c716f826394b44/lib/python3.6/site-packages/azureml/designer/serving/dagengine/processor.py\\\", line 45, in pre_process\\n    json_data = json.loads(raw_data)\\n  File \\\"/azureml-envs/azureml_29b35f9ea6f90b2cb3c716f826394b44/lib/python3.6/json/__init__.py\\\", line 354, in loads\\n    return _default_decoder.decode(s)\\n  File \\\"/azureml-envs/azureml_29b35f9ea6f90b2cb3c716f826394b44/lib/python3.6/json/decoder.py\\\", line 339, in decode\\n    obj, end = self.raw_decode(s, idx=_w(s, 0).end())\\n  File \\\"/azureml-envs/azureml_29b35f9ea6f90b2cb3c716f826394b44/lib/python3.6/json/decoder.py\\\", line 357, in raw_decode\\n    raise JSONDecodeError(\\\"Expecting value\\\", s, err.value) from None\\njson.decoder.JSONDecodeError: Expecting value: line 1 column 1 (char 0)\\n\", \"details\": \"\"}}\n"
     ]
    }
   ],
   "source": [
    "import requests\n",
    "import json\n",
    "\n",
    "# URL for the web service\n",
    "scoring_uri = 'http://20.85.176.173/api/v1/service/view-for-all/score'\n",
    "# If the service is authenticated, set the key or token\n",
    "key = '6LUdJ9QPfCMaxTjAzeD2N3kCxhaprPos'\n",
    "\n",
    "# Opening JSON file\n",
    "f = open('Input.json')\n",
    "\n",
    "# returns JSON object as\n",
    "# a dictionary\n",
    "input_data = json.load(f)\n",
    "\n",
    "# Closing file\n",
    "f.close()\n",
    "\n",
    "\n",
    "# Set the content type\n",
    "headers = {'Content-Type': 'application/json'}\n",
    "# If authentication is enabled, set the authorization header\n",
    "headers['Authorization'] = f'Bearer {key}'\n",
    "\n",
    "# Make the request and display the response\n",
    "resp = requests.post(scoring_uri, input_data, headers=headers)\n",
    "print(resp.text)"
   ]
  },
  {
   "cell_type": "code",
   "execution_count": 7,
   "metadata": {
    "scrolled": true
   },
   "outputs": [
    {
     "data": {
      "text/plain": [
       "{'Inputs': {'WebServiceInput0': [{'Column1': 1,\n",
       "    'Age': 30,\n",
       "    'Sex': 'Woman',\n",
       "    'Gender': 'Male',\n",
       "    'Ethnicity': 'Black or African American',\n",
       "    'HoursPlayedWeekly': 11,\n",
       "    'MostUsedPlatform': 'Sony PSP',\n",
       "    'FavouriteGame': 'Kane & Lynch: Dead Men',\n",
       "    'FavouriteGenre': 'Action',\n",
       "    'ColourAnomaly': 'Tritan-A',\n",
       "    'ColourAnomalyStrength': 'weak'},\n",
       "   {'Column1': 2,\n",
       "    'Age': 19,\n",
       "    'Sex': 'Woman',\n",
       "    'Gender': 'Female',\n",
       "    'Ethnicity': 'White',\n",
       "    'HoursPlayedWeekly': 9,\n",
       "    'MostUsedPlatform': 'X360',\n",
       "    'FavouriteGame': 'MLB 07: The Show',\n",
       "    'FavouriteGenre': 'Sports',\n",
       "    'ColourAnomaly': 'Deuter-A',\n",
       "    'ColourAnomalyStrength': 'strong'},\n",
       "   {'Column1': 3,\n",
       "    'Age': 39,\n",
       "    'Sex': 'Woman',\n",
       "    'Gender': 'Female',\n",
       "    'Ethnicity': 'Black or African American',\n",
       "    'HoursPlayedWeekly': 4,\n",
       "    'MostUsedPlatform': 'X360',\n",
       "    'FavouriteGame': 'Phoenix Wright: Ace Attorney',\n",
       "    'FavouriteGenre': 'Adventure',\n",
       "    'ColourAnomaly': 'Deuter-A',\n",
       "    'ColourAnomalyStrength': 'med'},\n",
       "   {'Column1': 4,\n",
       "    'Age': 32,\n",
       "    'Sex': 'Man',\n",
       "    'Gender': 'Other',\n",
       "    'Ethnicity': 'Native Hawaiian or Other Pacific Islander',\n",
       "    'HoursPlayedWeekly': 10,\n",
       "    'MostUsedPlatform': 'X360',\n",
       "    'FavouriteGame': 'Disgaea: Afternoon of Darkness',\n",
       "    'FavouriteGenre': 'Role-Playing (RPG)',\n",
       "    'ColourAnomaly': 'Norm',\n",
       "    'ColourAnomalyStrength': 'NA'},\n",
       "   {'Column1': 5,\n",
       "    'Age': 15,\n",
       "    'Sex': 'Woman',\n",
       "    'Gender': 'Female',\n",
       "    'Ethnicity': 'Indigenous Peoples',\n",
       "    'HoursPlayedWeekly': 5,\n",
       "    'MostUsedPlatform': 'Nintendo Wii',\n",
       "    'FavouriteGame': 'NHL 2K9',\n",
       "    'FavouriteGenre': 'Sports',\n",
       "    'ColourAnomaly': 'Deuter-A',\n",
       "    'ColourAnomalyStrength': 'strong'}]},\n",
       " 'GlobalParameters': {}}"
      ]
     },
     "execution_count": 7,
     "metadata": {},
     "output_type": "execute_result"
    }
   ],
   "source": [
    "input_data"
   ]
  },
  {
   "cell_type": "code",
   "execution_count": null,
   "metadata": {},
   "outputs": [],
   "source": []
  }
 ],
 "metadata": {
  "kernelspec": {
   "display_name": "Python 3",
   "language": "python",
   "name": "python3"
  },
  "language_info": {
   "codemirror_mode": {
    "name": "ipython",
    "version": 3
   },
   "file_extension": ".py",
   "mimetype": "text/x-python",
   "name": "python",
   "nbconvert_exporter": "python",
   "pygments_lexer": "ipython3",
   "version": "3.8.5"
  }
 },
 "nbformat": 4,
 "nbformat_minor": 4
}
